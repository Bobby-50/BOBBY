{
  "nbformat": 4,
  "nbformat_minor": 0,
  "metadata": {
    "colab": {
      "provenance": [],
      "authorship_tag": "ABX9TyO69rgGV4ej2a+CDx/G785D",
      "include_colab_link": true
    },
    "kernelspec": {
      "name": "python3",
      "display_name": "Python 3"
    },
    "language_info": {
      "name": "python"
    }
  },
  "cells": [
    {
      "cell_type": "markdown",
      "metadata": {
        "id": "view-in-github",
        "colab_type": "text"
      },
      "source": [
        "<a href=\"https://colab.research.google.com/github/Bobby-50/BOBBY/blob/main/contact_book.ipynb\" target=\"_parent\"><img src=\"https://colab.research.google.com/assets/colab-badge.svg\" alt=\"Open In Colab\"/></a>"
      ]
    },
    {
      "cell_type": "code",
      "execution_count": 3,
      "metadata": {
        "colab": {
          "base_uri": "https://localhost:8080/"
        },
        "id": "qHYnGOMZMTgo",
        "outputId": "371be828-8b61-424e-dd20-bf0e4716293e"
      },
      "outputs": [
        {
          "output_type": "stream",
          "name": "stdout",
          "text": [
            "\n",
            "--- Contact Book ---\n",
            "1. Add Contact\n",
            "2. View Contacts\n",
            "3. Search Contact\n",
            "4. Delete Contact\n",
            "5. Exit\n",
            "Enter your choice: 5\n",
            "Contacts saved. Goodbye!\n"
          ]
        }
      ],
      "source": [
        "import json\n",
        "import os\n",
        "\n",
        "CONTACT_FILE = \"contacts.json\"\n",
        "\n",
        "# Load contacts from file\n",
        "def load_contacts():\n",
        "    if os.path.exists(CONTACT_FILE):\n",
        "        with open(CONTACT_FILE, \"r\") as f:\n",
        "            return json.load(f)\n",
        "    return {}\n",
        "\n",
        "# Save contacts to file\n",
        "def save_contacts(contacts):\n",
        "    with open(CONTACT_FILE, \"w\") as f:\n",
        "        json.dump(contacts, f, indent=4)\n",
        "\n",
        "# Add a contact\n",
        "def add_contact(contacts):\n",
        "    name = input(\"Enter name: \").strip()\n",
        "    phone = input(\"Enter phone number: \").strip()\n",
        "    contacts[name] = phone\n",
        "    print(f\"Contact '{name}' added.\")\n",
        "\n",
        "# View all contacts\n",
        "def view_contacts(contacts):\n",
        "    if not contacts:\n",
        "        print(\"No contacts found.\")\n",
        "    else:\n",
        "        for name, phone in contacts.items():\n",
        "            print(f\"{name}: {phone}\")\n",
        "\n",
        "# Search contact\n",
        "def search_contact(contacts):\n",
        "    name = input(\"Enter name to search: \").strip()\n",
        "    if name in contacts:\n",
        "        print(f\"{name}: {contacts[name]}\")\n",
        "    else:\n",
        "        print(\"Contact not found.\")\n",
        "\n",
        "# Delete a contact\n",
        "def delete_contact(contacts):\n",
        "    name = input(\"Enter name to delete: \").strip()\n",
        "    if name in contacts:\n",
        "        del contacts[name]\n",
        "        print(f\"Contact '{name}' deleted.\")\n",
        "    else:\n",
        "        print(\"Contact not found.\")\n",
        "\n",
        "# Main loop\n",
        "def main():\n",
        "    contacts = load_contacts()\n",
        "\n",
        "    while True:\n",
        "        print(\"\\n--- Contact Book ---\")\n",
        "        print(\"1. Add Contact\")\n",
        "        print(\"2. View Contacts\")\n",
        "        print(\"3. Search Contact\")\n",
        "        print(\"4. Delete Contact\")\n",
        "        print(\"5. Exit\")\n",
        "\n",
        "        choice = input(\"Enter your choice: \").strip()\n",
        "\n",
        "        if choice == \"1\":\n",
        "            add_contact(contacts)\n",
        "        elif choice == \"2\":\n",
        "            view_contacts(contacts)\n",
        "        elif choice == \"3\":\n",
        "            search_contact(contacts)\n",
        "        elif choice == \"4\":\n",
        "            delete_contact(contacts)\n",
        "        elif choice == \"5\":\n",
        "            save_contacts(contacts)\n",
        "            print(\"Contacts saved. Goodbye!\")\n",
        "            break\n",
        "        else:\n",
        "            print(\"Invalid choice. Please enter 1-5.\")\n",
        "\n",
        "if __name__ == \"__main__\":\n",
        "    main()\n"
      ]
    }
  ]
}